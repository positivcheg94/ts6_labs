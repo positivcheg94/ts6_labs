{
 "cells": [
  {
   "cell_type": "code",
   "execution_count": null,
   "metadata": {
    "collapsed": true
   },
   "outputs": [],
   "source": [
    "from collections import Counter\n",
    "import numpy as np"
   ]
  },
  {
   "cell_type": "code",
   "execution_count": null,
   "metadata": {},
   "outputs": [],
   "source": [
    "p0 = np.array([0.12, 0.08, 0.56, 0.02, 0.22])\n",
    "P = np.array([0.37,0.22,0.17,0.15,0.09,\n",
    "0.25,0.13,0.14,0.11,0.37,\n",
    "0.12,0.18,0.35,0.10,0.25,\n",
    "0.11,0.07,0.10,0.47,0.25,\n",
    "0.15,0.4,0.24,0.17,0.04]).reshape((5,5))"
   ]
  },
  {
   "cell_type": "code",
   "execution_count": null,
   "metadata": {},
   "outputs": [],
   "source": [
    "class MarcovChain:\n",
    "    def __init__(self, p0, P, state_names = None):\n",
    "        if P.shape[0] != P.shape[1] != len(p0):\n",
    "            raise \"wrong shapes\"\n",
    "        self.p0 = p0\n",
    "        self.P  = P\n",
    "        self.n_states = len(p0)\n",
    "        self.state_names = state_names\n",
    "        \n",
    "    def generate_path(self,size):\n",
    "        current_state = np.random.choice(self.n_states, p = self.p0)\n",
    "        path = [current_state]\n",
    "        for i in range(size):\n",
    "            current_state = np.random.choice(self.n_states, p = self.P[:,current_state])\n",
    "            path.append(current_state)\n",
    "        return path if self.state_names is None else list(map(lambda x: self.state_names[x], path))\n",
    "    \n",
    "    \n"
   ]
  },
  {
   "cell_type": "code",
   "execution_count": null,
   "metadata": {
    "collapsed": true
   },
   "outputs": [],
   "source": [
    "mc = MarcovChain(\n",
    "    p0=np.array([0.1 , 0.2 , 0.7]),\n",
    "    P = np.array([[ 0.1 ,  0.2 ,  0.9 ],[ 0.8 ,  0.4 ,  0.04],[ 0.1 ,  0.4 ,  0.06]]),\n",
    "    #state_names = [\"sad\", \"50/50\", \"good\"]\n",
    ")"
   ]
  },
  {
   "cell_type": "code",
   "execution_count": null,
   "metadata": {},
   "outputs": [],
   "source": [
    "l = mc.generate_path(365)\n",
    "l[:10]"
   ]
  },
  {
   "cell_type": "code",
   "execution_count": null,
   "metadata": {},
   "outputs": [],
   "source": [
    "Counter(l)"
   ]
  },
  {
   "cell_type": "code",
   "execution_count": null,
   "metadata": {
    "collapsed": true
   },
   "outputs": [],
   "source": [
    "simulation = [mc.generate_path(365) for i in range(1000)]"
   ]
  },
  {
   "cell_type": "code",
   "execution_count": null,
   "metadata": {
    "collapsed": true
   },
   "outputs": [],
   "source": [
    "last_states = list(map(lambda x: x[-1], simulation))"
   ]
  },
  {
   "cell_type": "code",
   "execution_count": null,
   "metadata": {},
   "outputs": [],
   "source": [
    "c=Counter(last_states)\n",
    "c"
   ]
  },
  {
   "cell_type": "code",
   "execution_count": null,
   "metadata": {},
   "outputs": [],
   "source": [
    "np.array(list(c.values()))/1000"
   ]
  },
  {
   "cell_type": "code",
   "execution_count": null,
   "metadata": {
    "collapsed": true
   },
   "outputs": [],
   "source": []
  },
  {
   "cell_type": "code",
   "execution_count": null,
   "metadata": {
    "collapsed": true
   },
   "outputs": [],
   "source": []
  }
 ],
 "metadata": {
  "kernelspec": {
   "display_name": "Python 3",
   "language": "python",
   "name": "python3"
  },
  "language_info": {
   "codemirror_mode": {
    "name": "ipython",
    "version": 3
   },
   "file_extension": ".py",
   "mimetype": "text/x-python",
   "name": "python",
   "nbconvert_exporter": "python",
   "pygments_lexer": "ipython3",
   "version": "3.6.2"
  }
 },
 "nbformat": 4,
 "nbformat_minor": 2
}
