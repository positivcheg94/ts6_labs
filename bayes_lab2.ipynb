{
 "cells": [
  {
   "cell_type": "code",
   "execution_count": 58,
   "metadata": {
    "collapsed": true
   },
   "outputs": [],
   "source": [
    "from collections import Counter\n",
    "import numpy as np"
   ]
  },
  {
   "cell_type": "code",
   "execution_count": 47,
   "metadata": {},
   "outputs": [
    {
     "data": {
      "text/plain": [
       "array([[ 0.37,  0.22,  0.17,  0.15,  0.09],\n",
       "       [ 0.25,  0.13,  0.14,  0.11,  0.37],\n",
       "       [ 0.12,  0.18,  0.35,  0.1 ,  0.25],\n",
       "       [ 0.11,  0.07,  0.1 ,  0.47,  0.25],\n",
       "       [ 0.15,  0.4 ,  0.24,  0.17,  0.04]])"
      ]
     },
     "execution_count": 47,
     "metadata": {},
     "output_type": "execute_result"
    }
   ],
   "source": [
    "p0 = np.array([0.12, 0.08, 0.56, 0.02, 0.22])\n",
    "P = np.array([0.37,0.22,0.17,0.15,0.09,\n",
    "0.25,0.13,0.14,0.11,0.37,\n",
    "0.12,0.18,0.35,0.10,0.25,\n",
    "0.11,0.07,0.10,0.47,0.25,\n",
    "0.15,0.4,0.24,0.17,0.04]).reshape((5,5))\n",
    "P"
   ]
  },
  {
   "cell_type": "code",
   "execution_count": 57,
   "metadata": {
    "collapsed": true
   },
   "outputs": [],
   "source": [
    "class MarcovChain:\n",
    "    def __init__(self, p0, P, state_names = None):\n",
    "        if P.shape[0] != P.shape[1] != len(p0):\n",
    "            raise \"wrong shapes\"\n",
    "        self.p0 = p0\n",
    "        self.P  = P\n",
    "        self.n_states = len(p0)\n",
    "        self.state_names = state_names\n",
    "        \n",
    "    def generate_path(self,size):\n",
    "        current_state = np.random.choice(self.n_states, p = self.p0)\n",
    "        path = [current_state]\n",
    "        for i in range(size- 1):\n",
    "            current_state = np.random.choice(self.n_states, p = self.P[:,current_state])\n",
    "            path.append(current_state)\n",
    "        return path if self.state_names is None else list(map(lambda x: self.state_names[x], path))"
   ]
  },
  {
   "cell_type": "code",
   "execution_count": 20,
   "metadata": {},
   "outputs": [],
   "source": [
    "mc = MarcovChain(\n",
    "    p0=p0,\n",
    "    P = P,\n",
    "    state_names = [\"state1\", \"state2\", \"state3\", \"state4\", \"state5\"]\n",
    ")"
   ]
  },
  {
   "cell_type": "code",
   "execution_count": 21,
   "metadata": {},
   "outputs": [
    {
     "data": {
      "text/plain": [
       "['state1',\n",
       " 'state1',\n",
       " 'state2',\n",
       " 'state3',\n",
       " 'state5',\n",
       " 'state4',\n",
       " 'state4',\n",
       " 'state4',\n",
       " 'state4',\n",
       " 'state1']"
      ]
     },
     "execution_count": 21,
     "metadata": {},
     "output_type": "execute_result"
    }
   ],
   "source": [
    "l = mc.generate_path(365)\n",
    "l[:10]"
   ]
  },
  {
   "cell_type": "code",
   "execution_count": 22,
   "metadata": {},
   "outputs": [
    {
     "data": {
      "text/plain": [
       "Counter({'state1': 65, 'state2': 67, 'state3': 82, 'state4': 83, 'state5': 68})"
      ]
     },
     "execution_count": 22,
     "metadata": {},
     "output_type": "execute_result"
    }
   ],
   "source": [
    "Counter(l)"
   ]
  },
  {
   "cell_type": "code",
   "execution_count": 23,
   "metadata": {
    "collapsed": true
   },
   "outputs": [],
   "source": [
    "simulation = [mc.generate_path(365) for i in range(1000)]"
   ]
  },
  {
   "cell_type": "code",
   "execution_count": 25,
   "metadata": {
    "collapsed": true
   },
   "outputs": [],
   "source": [
    "last_states = list(map(lambda x: x[-1], simulation))"
   ]
  },
  {
   "cell_type": "code",
   "execution_count": 26,
   "metadata": {},
   "outputs": [
    {
     "data": {
      "text/plain": [
       "Counter({'state1': 232,\n",
       "         'state2': 191,\n",
       "         'state3': 173,\n",
       "         'state4': 212,\n",
       "         'state5': 192})"
      ]
     },
     "execution_count": 26,
     "metadata": {},
     "output_type": "execute_result"
    }
   ],
   "source": [
    "c=Counter(last_states)\n",
    "c"
   ]
  },
  {
   "cell_type": "code",
   "execution_count": 27,
   "metadata": {},
   "outputs": [
    {
     "data": {
      "text/plain": [
       "array([ 0.173,  0.192,  0.232,  0.212,  0.191])"
      ]
     },
     "execution_count": 27,
     "metadata": {},
     "output_type": "execute_result"
    }
   ],
   "source": [
    "np.array(list(c.values()))/1000"
   ]
  },
  {
   "cell_type": "code",
   "execution_count": 48,
   "metadata": {},
   "outputs": [
    {
     "data": {
      "text/plain": [
       "array([[-0.63,  0.25,  0.12,  0.11,  0.15],\n",
       "       [ 0.22, -0.87,  0.18,  0.07,  0.4 ],\n",
       "       [ 0.17,  0.14, -0.65,  0.1 ,  0.24],\n",
       "       [ 0.15,  0.11,  0.1 , -0.53,  0.17],\n",
       "       [ 0.09,  0.37,  0.25,  0.25, -0.96],\n",
       "       [ 1.  ,  1.  ,  1.  ,  1.  ,  1.  ]])"
      ]
     },
     "execution_count": 48,
     "metadata": {},
     "output_type": "execute_result"
    }
   ],
   "source": [
    "A = P.T - np.identity(P.shape[0]) \n",
    "A = np.vstack([A,np.ones((1,P.shape[0]))])\n",
    "A"
   ]
  },
  {
   "cell_type": "code",
   "execution_count": 41,
   "metadata": {},
   "outputs": [
    {
     "data": {
      "text/plain": [
       "array([ 0.,  0.,  0.,  0.,  0.,  1.])"
      ]
     },
     "execution_count": 41,
     "metadata": {},
     "output_type": "execute_result"
    }
   ],
   "source": [
    "b = np.zeros(P.shape[0]+1)\n",
    "b[-1] = 1\n",
    "b"
   ]
  },
  {
   "cell_type": "code",
   "execution_count": 56,
   "metadata": {},
   "outputs": [
    {
     "data": {
      "text/plain": [
       "(array([ 0.2,  0.2,  0.2,  0.2,  0.2]),\n",
       " array([  3.42266081e-33]),\n",
       " 5,\n",
       " array([ 2.23606798,  1.3362108 ,  0.89994706,  0.76455193,  0.64474516]))"
      ]
     },
     "execution_count": 56,
     "metadata": {},
     "output_type": "execute_result"
    }
   ],
   "source": [
    "np.linalg.lstsq(A,b)"
   ]
  },
  {
   "cell_type": "code",
   "execution_count": null,
   "metadata": {
    "collapsed": true
   },
   "outputs": [],
   "source": []
  }
 ],
 "metadata": {
  "kernelspec": {
   "display_name": "Python [default]",
   "language": "python",
   "name": "python3"
  },
  "language_info": {
   "codemirror_mode": {
    "name": "ipython",
    "version": 3
   },
   "file_extension": ".py",
   "mimetype": "text/x-python",
   "name": "python",
   "nbconvert_exporter": "python",
   "pygments_lexer": "ipython3",
   "version": "3.5.3"
  }
 },
 "nbformat": 4,
 "nbformat_minor": 2
}
