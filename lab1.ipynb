{
 "cells": [
  {
   "cell_type": "code",
   "execution_count": null,
   "metadata": {},
   "outputs": [],
   "source": [
    "%pylab inline"
   ]
  },
  {
   "cell_type": "code",
   "execution_count": null,
   "metadata": {
    "collapsed": true
   },
   "outputs": [],
   "source": [
    "import numpy as np\n",
    "import pandas as pd\n",
    "import scipy\n",
    "from matplotlib import pyplot as plt\n",
    "from sklearn.linear_model import LinearRegression\n",
    "import matplotlib as mpl\n",
    "\n",
    "mpl.rcParams['figure.figsize'] = (16,10)"
   ]
  },
  {
   "cell_type": "code",
   "execution_count": null,
   "metadata": {
    "collapsed": true
   },
   "outputs": [],
   "source": [
    "# my data\n",
    "X = np.array([1.34, 2.43, 2.9, 3.37, 3.56, 4.1, 5.37, 6.23, 7.07, 7.63, 9.06, 9.84, 9.96, 12.14, 12.83, 13.21, 13.2],dtype=np.float64)\n",
    "Y = np.array([13.4, 8.24, 5.97, 4.58, 4.72, 3.33, 1.77, 1.04, 0.69, 0.52, 0.27, 0.17, 0.17, 0.06, 0.04, 0.03, 0.03], dtype=np.float64)"
   ]
  },
  {
   "cell_type": "code",
   "execution_count": null,
   "metadata": {},
   "outputs": [],
   "source": [
    "plt.plot(X, Y)"
   ]
  },
  {
   "cell_type": "code",
   "execution_count": null,
   "metadata": {},
   "outputs": [],
   "source": [
    "plt.plot(1/X, Y)"
   ]
  },
  {
   "cell_type": "code",
   "execution_count": null,
   "metadata": {
    "collapsed": true
   },
   "outputs": [],
   "source": [
    "X_data = X.reshape((-1,1))\n",
    "Y_data = Y"
   ]
  },
  {
   "cell_type": "raw",
   "metadata": {},
   "source": [
    "looks like y ~ 1/x"
   ]
  },
  {
   "cell_type": "code",
   "execution_count": null,
   "metadata": {},
   "outputs": [],
   "source": [
    "def ifunc(x):\n",
    "    return x\n",
    "\n",
    "def create_model(X, Y):\n",
    "    lr = LinearRegression(fit_intercept=True)\n",
    "    return lr.fit(X,Y)\n",
    "\n",
    "def predict(X, Y, fx, fy, ify):\n",
    "    Xf = fx(X)\n",
    "    Yf = fy(Y)\n",
    "    model = create_model(Xf,Yf)\n",
    "    Ypf = model.predict(Xf)\n",
    "    Yp = ify(Ypf)\n",
    "    return model, Yp"
   ]
  },
  {
   "cell_type": "code",
   "execution_count": null,
   "metadata": {
    "collapsed": true
   },
   "outputs": [],
   "source": [
    "models = [\n",
    "    predict(X_data, Y_data, ifunc, ifunc, ifunc),\n",
    "    predict(X_data, Y_data, np.log, ifunc, ifunc),\n",
    "    predict(X_data, Y_data, np.reciprocal, ifunc, ifunc),\n",
    "    predict(X_data, Y_data, np.reciprocal, np.log, np.exp),\n",
    "    predict(X_data, Y_data, np.log, np.log, np.exp),\n",
    "    predict(X_data, Y_data, np.reciprocal, np.log, np.exp),\n",
    "    predict(X_data, Y_data, ifunc, np.reciprocal, np.reciprocal),\n",
    "    predict(X_data, Y_data, ifunc, ifunc, ifunc),\n",
    "    predict(X_data, Y_data, np.reciprocal, np.reciprocal, np.reciprocal)\n",
    "]"
   ]
  },
  {
   "cell_type": "code",
   "execution_count": null,
   "metadata": {},
   "outputs": [],
   "source": [
    "fig, axs = plt.subplots(3,3)\n",
    "for m in range(9):\n",
    "    i = m // 3\n",
    "    j = m %  3\n",
    "    axs[i][j].plot(X_data, Y_data)\n",
    "    axs[i][j].plot(X_data, models[m][1])"
   ]
  },
  {
   "cell_type": "code",
   "execution_count": null,
   "metadata": {
    "collapsed": true
   },
   "outputs": [],
   "source": [
    "errors = [np.sum((Y_data - m[1])**2) for m in models]"
   ]
  },
  {
   "cell_type": "code",
   "execution_count": null,
   "metadata": {},
   "outputs": [],
   "source": [
    "errors"
   ]
  },
  {
   "cell_type": "raw",
   "metadata": {},
   "source": [
    "#model 3 is the best"
   ]
  },
  {
   "cell_type": "code",
   "execution_count": null,
   "metadata": {},
   "outputs": [],
   "source": [
    "m = models[2]\n",
    "m"
   ]
  },
  {
   "cell_type": "code",
   "execution_count": null,
   "metadata": {
    "collapsed": true
   },
   "outputs": [],
   "source": [
    "step = np.ptp(X)/len(X)"
   ]
  },
  {
   "cell_type": "code",
   "execution_count": null,
   "metadata": {},
   "outputs": [],
   "source": [
    "x_next = np.arange(1,4)*step + np.max(X)\n",
    "x_next"
   ]
  },
  {
   "cell_type": "code",
   "execution_count": null,
   "metadata": {
    "collapsed": true
   },
   "outputs": [],
   "source": [
    "x_next = np.arange(1,4)*step + np.max(X)"
   ]
  },
  {
   "cell_type": "code",
   "execution_count": null,
   "metadata": {},
   "outputs": [],
   "source": [
    "x_next\n",
    "y_next = m[0].predict(1/x_next.reshape((-1,1)))"
   ]
  },
  {
   "cell_type": "code",
   "execution_count": null,
   "metadata": {},
   "outputs": [],
   "source": [
    "n = len(X)\n",
    "x_mean = np.sum(X)/n\n",
    "DX = np.sum((X - x_mean)**2)\n",
    "y_mean = np.sum(Y)/n\n",
    "sigma = np.sum((m[1] - Y)**2)/(n-1)\n",
    "k = len(X) - 2\n",
    "alpha = 0.1\n",
    "st = scipy.stats.t.ppf(1-0.05,k)\n",
    "u = m[1] - Y\n",
    "print(\"x_mean\", x_mean)\n",
    "print(\"DX\", DX)\n",
    "print(\"y_mean\", y_mean)\n",
    "print(\"sigma\", sigma)\n",
    "print(\"st\", st)\n",
    "print(\"u\", u)"
   ]
  },
  {
   "cell_type": "code",
   "execution_count": 18,
   "metadata": {},
   "outputs": [],
   "source": [
    "delta_y = []\n",
    "for x_pi in x_next:\n",
    "    delta_y.append( st * sigma * np.sqrt(1+ 1/n + (x_pi - x_mean)**2/DX))\n",
    "delta_y = np.array(delta_y)"
   ]
  },
  {
   "cell_type": "code",
   "execution_count": 19,
   "metadata": {},
   "outputs": [
    {
     "data": {
      "text/plain": [
       "array([ 0.46540788,  0.47235304,  0.47987989])"
      ]
     },
     "execution_count": 19,
     "metadata": {},
     "output_type": "execute_result"
    }
   ],
   "source": [
    "delta_y"
   ]
  },
  {
   "cell_type": "code",
   "execution_count": 20,
   "metadata": {},
   "outputs": [
    {
     "data": {
      "text/plain": [
       "[<matplotlib.lines.Line2D at 0x22042018ef0>]"
      ]
     },
     "execution_count": 20,
     "metadata": {},
     "output_type": "execute_result"
    },
    {
     "data": {
      "image/png": "[encoded data removed]",
      "text/plain": [
       "<matplotlib.figure.Figure at 0x2204237c8d0>"
      ]
     },
     "metadata": {},
     "output_type": "display_data"
    }
   ],
   "source": [
    "plt.plot(X_data, Y_data)\n",
    "plt.plot(X_data, models[2][1])\n",
    "plt.plot(x_next, y_next, \"g\")\n",
    "plt.plot(x_next, y_next - delta_y, \"--g\")\n",
    "plt.plot(x_next, y_next + delta_y, \"--g\")"
   ]
  },
  {
   "cell_type": "code",
   "execution_count": null,
   "metadata": {
    "collapsed": true
   },
   "outputs": [],
   "source": []
  }
 ],
 "metadata": {
  "kernelspec": {
   "display_name": "Python 3",
   "language": "python",
   "name": "python3"
  },
  "language_info": {
   "codemirror_mode": {
    "name": "ipython",
    "version": 3
   },
   "file_extension": ".py",
   "mimetype": "text/x-python",
   "name": "python",
   "nbconvert_exporter": "python",
   "pygments_lexer": "ipython3",
   "version": "3.6.2"
  }
 },
 "nbformat": 4,
 "nbformat_minor": 2
}
